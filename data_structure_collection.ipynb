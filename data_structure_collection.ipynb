{
 "cells": [
  {
   "cell_type": "code",
   "execution_count": 1,
   "id": "ddff4172",
   "metadata": {},
   "outputs": [
    {
     "name": "stdout",
     "output_type": "stream",
     "text": [
      "['a', 'b', 'c', 100, 200.0]\n",
      "a\n",
      "b\n",
      "c\n"
     ]
    }
   ],
   "source": [
    "list1 = ['a', 'b', 'c', 100, 200.0]\n",
    "print(list1)\n",
    "\n",
    "print(list1[0])\n",
    " \n",
    "for val in list1[1:3]:\n",
    "    print(val)"
   ]
  },
  {
   "cell_type": "code",
   "execution_count": 2,
   "id": "1f19f90b",
   "metadata": {},
   "outputs": [
    {
     "name": "stdout",
     "output_type": "stream",
     "text": [
      "['a', 'b', 'c', 100, 200.0, 'i']\n",
      "['a', 'b', 'c', 100, 200.0, 'i', 'j', 'k']\n"
     ]
    }
   ],
   "source": [
    "list1.append('i')\n",
    "print(list1)\n",
    "\n",
    "list1.extend(['j', 'k'])\n",
    "print(list1)"
   ]
  },
  {
   "cell_type": "code",
   "execution_count": 7,
   "id": "d7079524",
   "metadata": {},
   "outputs": [
    {
     "name": "stdout",
     "output_type": "stream",
     "text": [
      "('a', 'b', 'c', 100, 200.0)\n",
      "b\n",
      "b\n",
      "c\n"
     ]
    }
   ],
   "source": [
    "tuple1 = ('a', 'b', 'c', 100, 200.0)\n",
    "print(tuple1)\n",
    "\n",
    "print(tuple1[1])\n",
    " \n",
    "for val in tuple1[1:3]:\n",
    "    print(val)"
   ]
  },
  {
   "cell_type": "code",
   "execution_count": 6,
   "id": "55e3da4a",
   "metadata": {},
   "outputs": [],
   "source": [
    "#tuple1.append('i')\n",
    "#print(list1)\n",
    "\n",
    "#tuple1.extend(['j', 'k'])\n",
    "#print(list1)"
   ]
  },
  {
   "cell_type": "code",
   "execution_count": null,
   "id": "19da632f",
   "metadata": {},
   "outputs": [],
   "source": []
  }
 ],
 "metadata": {
  "kernelspec": {
   "display_name": "Python 3 (ipykernel)",
   "language": "python",
   "name": "python3"
  },
  "language_info": {
   "codemirror_mode": {
    "name": "ipython",
    "version": 3
   },
   "file_extension": ".py",
   "mimetype": "text/x-python",
   "name": "python",
   "nbconvert_exporter": "python",
   "pygments_lexer": "ipython3",
   "version": "3.9.7"
  }
 },
 "nbformat": 4,
 "nbformat_minor": 5
}
